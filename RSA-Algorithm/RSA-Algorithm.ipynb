{
 "cells": [
  {
   "cell_type": "markdown",
   "metadata": {},
   "source": [
    "# RSA Cryptography Algorithm"
   ]
  },
  {
   "cell_type": "markdown",
   "metadata": {},
   "source": [
    "## About RSA Algorithm\n",
    "RSA (Rivest–Shamir–Adleman) is one of the first public-key cryptosystems and is widely used for secure data transmission. In such a cryptosystem, the encryption key is public and distinct from the decryption key which is kept secret (private)."
   ]
  },
  {
   "cell_type": "markdown",
   "metadata": {},
   "source": [
    "## Algorithm\n",
    "\n",
    "1. Select 2 Prime Numbers - **p & q**\n",
    "2. Calculate **n = p x q**\n",
    "3. Calculate Euler's Totient Function of n,  **φ(n) = (p-1) x (q-1)**\n",
    "4. Select PUBLIC KEY, **e** such that **e & φ(n) are Co-primes**  i.e, **gcd(e , φ(n))=1**\n",
    "5. Calculate PRIVATE KEY, **d** such that **(d x e) mod φ(n) = 1**"
   ]
  },
  {
   "cell_type": "markdown",
   "metadata": {},
   "source": [
    "## Public and Private Keys\n",
    "\n",
    "1. The Public  key is { e , n }, which is known to all in the network.\n",
    "2. The Private key is { d , n }, which is known ONLY to the User to whom message is to be sent."
   ]
  },
  {
   "cell_type": "markdown",
   "metadata": {},
   "source": [
    "## Encryption & Decryption\n",
    "\n",
    "#### Encryption Algorithm\n",
    "\n",
    "The Cipher Text, C is generated from the plaintext, M using the public key, e as:\n",
    "\n",
    "**C = M<sup>e</sup> mod n**\n",
    "\n",
    "#### Decryption Algorithm\n",
    "\n",
    "The Plain Text, M is generated from the ciphertext, C using the private key, d as:\n",
    "\n",
    "**M = C<sup>d</sup> mod n**"
   ]
  },
  {
   "cell_type": "markdown",
   "metadata": {},
   "source": [
    "## Implementation of RSA using Python"
   ]
  },
  {
   "cell_type": "code",
   "execution_count": 3,
   "metadata": {},
   "outputs": [
    {
     "name": "stdout",
     "output_type": "stream",
     "text": [
      "Value of P =  7\n",
      "Value of Q =  19\n",
      "Value of N =  133\n",
      "Value of L =  108\n",
      " \n",
      "List of Available Public Keys\n",
      "[1, 5, 7, 11, 13, 17, 19, 23, 25, 29, 31, 35, 37, 41, 43, 47, 49, 53, 55, 59, 61, 65, 67, 71, 73, 77, 79, 83, 85, 89, 91, 95, 97, 101, 103, 107]\n",
      " \n",
      "Select Public Key from the Above List ONLY: 31\n",
      " \n",
      "PUBLIC KEY  : { e , n } = { 31 , 133 }\n",
      "PRIVATE KEY : { d , n } = { 7 , 133 }\n",
      " \n",
      "Enter the Plain Text: 89\n",
      "CipherText:  110\n",
      " \n",
      "Enter the Cipher Text: 110\n",
      "PlainText:  89\n"
     ]
    }
   ],
   "source": [
    "from sympy import *\n",
    "import math \n",
    "\n",
    "#Generate p and q\n",
    "p = randprime(1, 10)\n",
    "q = randprime(11, 20)\n",
    "\n",
    "#Generate n and l(n)\n",
    "n = p*q\n",
    "l = (p-1)*(q-1)\n",
    "\n",
    "#Function to test Co-Primality for generation of list of Public Keys\n",
    "def isCoPrime(x):\n",
    "    if math.gcd(l,x)==1:\n",
    "        return True\n",
    "    else:\n",
    "        return False\n",
    "\n",
    "#Function to find mod Inverese of e withl(n) to generate d     \n",
    "def modInverse(e, l) :\n",
    "    e = e % l;\n",
    "    for x in range(1, l) :\n",
    "        if ((e * x) % l == 1) :\n",
    "            return x\n",
    "    return 1\n",
    "\n",
    "#List for Co-Primes\n",
    "listOfCP = []\n",
    "for i in range(1, l):\n",
    "    if isCoPrime(i) == True:\n",
    "        listOfCP.append(i)\n",
    "\n",
    "#Print values of P, Q, N, L        \n",
    "print(\"Value of P = \", p)\n",
    "print(\"Value of Q = \", q)\n",
    "print(\"Value of N = \", n)\n",
    "print(\"Value of L = \", l)\n",
    "\n",
    "print(\" \")\n",
    "\n",
    "#Print List of Co-Primes for e\n",
    "print(\"List of Available Public Keys\")\n",
    "print(listOfCP)\n",
    "\n",
    "print(\" \")\n",
    "\n",
    "#select a Public Key from list of Co-Primes\n",
    "e = int(input(\"Select Public Key from the Above List ONLY: \"))\n",
    "\n",
    "#Value of d\n",
    "d = modInverse(e, l)\n",
    "\n",
    "print(\" \")\n",
    "\n",
    "#Print Public and Private Keys\n",
    "print(\"PUBLIC KEY  : { e , n } = {\", e ,\",\", n , \"}\")\n",
    "print(\"PRIVATE KEY : { d , n } = {\", d ,\",\", n , \"}\")\n",
    "\n",
    "print(\" \")\n",
    "\n",
    "#Encryption Algorithm\n",
    "def encrypt(plainText):\n",
    "    return (plainText**e)%n\n",
    "\n",
    "#Decryption Algorithm\n",
    "def decrypt(cipherText):\n",
    "    #pvtKey = int(input(\"Enter your Private Key: \"))\n",
    "    return (cipherText**d)%n\n",
    "\n",
    "#Driver Code\n",
    "\n",
    "#Message Input\n",
    "pt = int(input('Enter the Plain Text: '))\n",
    "print(\"CipherText: \", encrypt(pt))\n",
    "\n",
    "print(\" \")\n",
    "\n",
    "#CipherText Input\n",
    "ct = int(input('Enter the Cipher Text: '))\n",
    "print(\"PlainText: \", decrypt(ct))"
   ]
  },
  {
   "cell_type": "markdown",
   "metadata": {},
   "source": [
    "#### Tanmoy Sen Gupta\n",
    "tanmoysg.com | +91 9864809029 | tanmoysps@gmail.com"
   ]
  }
 ],
 "metadata": {
  "kernelspec": {
   "display_name": "Python 3",
   "language": "python",
   "name": "python3"
  },
  "language_info": {
   "codemirror_mode": {
    "name": "ipython",
    "version": 3
   },
   "file_extension": ".py",
   "mimetype": "text/x-python",
   "name": "python",
   "nbconvert_exporter": "python",
   "pygments_lexer": "ipython3",
   "version": "3.7.1"
  }
 },
 "nbformat": 4,
 "nbformat_minor": 4
}
