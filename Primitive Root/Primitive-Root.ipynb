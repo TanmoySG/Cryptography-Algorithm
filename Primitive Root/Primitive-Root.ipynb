{
 "cells": [
  {
   "cell_type": "markdown",
   "metadata": {},
   "source": [
    "# Primitive Roots"
   ]
  },
  {
   "cell_type": "markdown",
   "metadata": {},
   "source": [
    "## About \n",
    "In modular arithmetic, a branch of number theory, a number g is a primitive root modulo n if every number a coprime to n is congruent to a power of g modulo n. That is, g is a primitive root modulo n if for every integer a coprime to n, there is an integer k such that g<sup>k</sup> ≡ a (mod n)."
   ]
  },
  {
   "cell_type": "markdown",
   "metadata": {},
   "source": [
    "## Algorithm\n",
    "\n",
    "**x** is the **primitive root of q** if,\n",
    "\n",
    "**{x<sup>1</sup> mod q, x<sup>2</sup> mod q, x<sup>3</sup> mod q, ..., x<sup>q-1</sup> mod q} => {1, 2, 3, ..., q-1}**\n",
    "\n",
    "1. Calculate value of **x<sup>i</sup> mod q**, for **x <= q-1 and i <= q-1**\n",
    "2. The value of x, for which the corresponding set(s), **{x<sup>1</sup> mod q, x<sup>2</sup> mod q, x<sup>3</sup> mod q, ..., x<sup>q-1</sup> mod q} => {1, 2, 3, ..., q-1}** , is a a **Primitive Root of q**\n",
    "3. Print the Primitive Root table.\n",
    "4. Print the list of Primitive roots."
   ]
  },
  {
   "cell_type": "code",
   "execution_count": 122,
   "metadata": {},
   "outputs": [
    {
     "name": "stdout",
     "output_type": "stream",
     "text": [
      "Enter a prime number: 7\n",
      "\n",
      "Primitive Roots table for 7 : \n",
      "\n",
      "\u001b[34ma↓     i→|\u001b[0m    \u001b[34ma^1 mod 7\u001b[0m    \u001b[34ma^2 mod 7\u001b[0m    \u001b[34ma^3 mod 7\u001b[0m    \u001b[34ma^4 mod 7\u001b[0m    \u001b[34ma^5 mod 7\u001b[0m    \u001b[34ma^6 mod 7\u001b[0m    \n",
      "\n",
      "\u001b[34m------------\u001b[0m\u001b[34m------------\u001b[0m\u001b[34m------------\u001b[0m\u001b[34m------------\u001b[0m\u001b[34m------------\u001b[0m\u001b[34m------------\u001b[0m\u001b[34m------------\u001b[0m\n",
      "\n",
      "\u001b[34m1        |\u001b[0m        1            1            1            1            1            1            \n",
      "\n",
      "\u001b[34m2        |\u001b[0m        2            4            1            2            4            1            \n",
      "\n",
      "\u001b[34m3        |\u001b[0m        \u001b[32m3\u001b[0m            \u001b[32m2\u001b[0m            \u001b[32m6\u001b[0m            \u001b[32m4\u001b[0m            \u001b[32m5\u001b[0m            \u001b[32m1\u001b[0m            \n",
      "\n",
      "\u001b[34m4        |\u001b[0m        4            2            1            4            2            1            \n",
      "\n",
      "\u001b[34m5        |\u001b[0m        \u001b[32m5\u001b[0m            \u001b[32m4\u001b[0m            \u001b[32m6\u001b[0m            \u001b[32m2\u001b[0m            \u001b[32m3\u001b[0m            \u001b[32m1\u001b[0m            \n",
      "\n",
      "\u001b[34m6        |\u001b[0m        6            1            6            1            6            1            \n",
      "\n",
      "\n",
      "Primitive Roots of 7 are  [3, 5]\n",
      "\n"
     ]
    }
   ],
   "source": [
    "import random\n",
    "from termcolor import colored\n",
    "\n",
    "def primitiveRoot(q):\n",
    "    setOfPR = []\n",
    "    a = 1\n",
    "    print(\"\\nPrimitive Roots table for {} : \\n\".format(q))\n",
    "    print(colored(\"a\\u2193     i\\u2192|\".format(q) , 'blue'), end=\"    \")\n",
    "    for i in range(1, q):\n",
    "        print(colored('a^{} mod {}'.format(i,q), 'blue'), end=\"    \")\n",
    "    print(\"\\n\")\n",
    "    for i in range(1, q+1):\n",
    "        print(colored('------------', 'blue'), end=\"\")\n",
    "    print(\"\\n\")\n",
    "    while a<q:\n",
    "        rootSet= []\n",
    "        reqSet = []\n",
    "        for i in range(1, q):\n",
    "            rootSet.append(int((a**i)%q))\n",
    "        #print(rootSet)\n",
    "        print(colored(\"{}        |\".format(a) , 'blue'), end=\"        \")\n",
    "        for j in range(1, q):\n",
    "            reqSet.append(j)\n",
    "        \n",
    "        if set(rootSet) == set(reqSet):\n",
    "            setOfPR.append(a)\n",
    "            for k in rootSet:\n",
    "                print(colored(\"{}\".format(k), 'green'), end=\"            \")\n",
    "            print(\"\\n\")\n",
    "            a += 1\n",
    "        else:\n",
    "            for k in rootSet:\n",
    "                print(\"{}\".format(k), end=\"            \")\n",
    "            print(\"\\n\")\n",
    "            a += 1\n",
    "    print(\"\\nPrimitive Roots of {} are \".format(q), setOfPR, end=\"\\n\\n\")\n",
    "\n",
    "q = int(input(\"Enter a prime number: \"))\n",
    "\n",
    "primitiveRoot(q)\n"
   ]
  },
  {
   "cell_type": "markdown",
   "metadata": {},
   "source": [
    "#### Tanmoy Sen Gupta\n",
    "[tanmoysg.com](http://tanmoysg.com) | +91 9864809029 | tanmoysps@gmail.com"
   ]
  }
 ],
 "metadata": {
  "kernelspec": {
   "display_name": "Python 3",
   "language": "python",
   "name": "python3"
  },
  "language_info": {
   "codemirror_mode": {
    "name": "ipython",
    "version": 3
   },
   "file_extension": ".py",
   "mimetype": "text/x-python",
   "name": "python",
   "nbconvert_exporter": "python",
   "pygments_lexer": "ipython3",
   "version": "3.7.1"
  }
 },
 "nbformat": 4,
 "nbformat_minor": 4
}
